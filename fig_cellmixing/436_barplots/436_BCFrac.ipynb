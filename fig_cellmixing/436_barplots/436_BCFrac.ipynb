{
 "cells": [
  {
   "cell_type": "code",
   "execution_count": 1,
   "id": "1fd7f075-54cb-4699-b17b-6e46b2846233",
   "metadata": {},
   "outputs": [],
   "source": [
    "import pandas as pd\n",
    "import seaborn as sns\n",
    "import numpy as np\n",
    "import glob\n",
    "import os\n",
    "import csv\n",
    "\n",
    "import matplotlib.pyplot as plt"
   ]
  },
  {
   "cell_type": "code",
   "execution_count": 2,
   "id": "4301e260-9331-4eac-a2b1-4508bc0e1c6b",
   "metadata": {},
   "outputs": [],
   "source": [
    "PATH = \"../../results_cellmixing_numbers/\""
   ]
  },
  {
   "cell_type": "code",
   "execution_count": 3,
   "id": "81c7477e-ec46-486d-ba6a-5317af48fd01",
   "metadata": {},
   "outputs": [
    {
     "data": {
      "text/plain": [
       "['../../results_cellmixing_numbers/436A_NUMBERS.csv',\n",
       " '../../results_cellmixing_numbers/436D_NUMBERS.csv',\n",
       " '../../results_cellmixing_numbers/436E_NUMBERS.csv',\n",
       " '../../results_cellmixing_numbers/436F_NUMBERS.csv',\n",
       " '../../results_cellmixing_numbers/436G_NUMBERS.csv',\n",
       " '../../results_cellmixing_numbers/436H_NUMBERS.csv',\n",
       " '../../results_cellmixing_numbers/438A_NUMBERS.csv',\n",
       " '../../results_cellmixing_numbers/438D_NUMBERS.csv',\n",
       " '../../results_cellmixing_numbers/438E_NUMBERS.csv',\n",
       " '../../results_cellmixing_numbers/438F_NUMBERS.csv',\n",
       " '../../results_cellmixing_numbers/438G_NUMBERS.csv',\n",
       " '../../results_cellmixing_numbers/438H_NUMBERS.csv',\n",
       " '../../results_cellmixing_numbers/S436E_NUMBERS.csv']"
      ]
     },
     "execution_count": 3,
     "metadata": {},
     "output_type": "execute_result"
    }
   ],
   "source": [
    "CSV = sorted(glob.glob(PATH+'*NUMBERS.csv'))\n",
    "CSV"
   ]
  },
  {
   "cell_type": "code",
   "execution_count": 4,
   "id": "10fa01d2-23ca-4083-830e-cdfa5bb47dee",
   "metadata": {},
   "outputs": [
    {
     "data": {
      "text/plain": [
       "['../../results_cellmixing_numbers/436D_NUMBERS.csv',\n",
       " '../../results_cellmixing_numbers/436E_NUMBERS.csv',\n",
       " '../../results_cellmixing_numbers/436F_NUMBERS.csv']"
      ]
     },
     "execution_count": 4,
     "metadata": {},
     "output_type": "execute_result"
    }
   ],
   "source": [
    "#Check for D,E,F files\n",
    "CSV[1:4]"
   ]
  },
  {
   "cell_type": "code",
   "execution_count": 5,
   "id": "7c08f1ff-6bc1-4da0-b38d-9e25db8eb085",
   "metadata": {},
   "outputs": [
    {
     "data": {
      "text/html": [
       "<div>\n",
       "<style scoped>\n",
       "    .dataframe tbody tr th:only-of-type {\n",
       "        vertical-align: middle;\n",
       "    }\n",
       "\n",
       "    .dataframe tbody tr th {\n",
       "        vertical-align: top;\n",
       "    }\n",
       "\n",
       "    .dataframe thead th {\n",
       "        text-align: right;\n",
       "    }\n",
       "</style>\n",
       "<table border=\"1\" class=\"dataframe\">\n",
       "  <thead>\n",
       "    <tr style=\"text-align: right;\">\n",
       "      <th></th>\n",
       "      <th>436D</th>\n",
       "    </tr>\n",
       "  </thead>\n",
       "  <tbody>\n",
       "    <tr>\n",
       "      <th>Human_BC1</th>\n",
       "      <td>6671</td>\n",
       "    </tr>\n",
       "    <tr>\n",
       "      <th>Human_BC2</th>\n",
       "      <td>47677</td>\n",
       "    </tr>\n",
       "    <tr>\n",
       "      <th>Mouse_BC1</th>\n",
       "      <td>144830</td>\n",
       "    </tr>\n",
       "    <tr>\n",
       "      <th>Mouse_BC2</th>\n",
       "      <td>18965</td>\n",
       "    </tr>\n",
       "    <tr>\n",
       "      <th>Human_TotalReads</th>\n",
       "      <td>54348</td>\n",
       "    </tr>\n",
       "    <tr>\n",
       "      <th>Mouse_TotalReads</th>\n",
       "      <td>163795</td>\n",
       "    </tr>\n",
       "    <tr>\n",
       "      <th>TotalReads</th>\n",
       "      <td>218143</td>\n",
       "    </tr>\n",
       "  </tbody>\n",
       "</table>\n",
       "</div>"
      ],
      "text/plain": [
       "                    436D\n",
       "Human_BC1           6671\n",
       "Human_BC2          47677\n",
       "Mouse_BC1         144830\n",
       "Mouse_BC2          18965\n",
       "Human_TotalReads   54348\n",
       "Mouse_TotalReads  163795\n",
       "TotalReads        218143"
      ]
     },
     "execution_count": 5,
     "metadata": {},
     "output_type": "execute_result"
    }
   ],
   "source": [
    "#Read dataframes for all files and take a look\n",
    "df_436 = []\n",
    "for file in CSV[1:4]:\n",
    "    df_436.append(pd.read_csv(file, index_col=0))\n",
    "df_436[0]"
   ]
  },
  {
   "cell_type": "code",
   "execution_count": 6,
   "id": "dc4f247a-8b56-4b29-a976-ce90ffb514d7",
   "metadata": {},
   "outputs": [],
   "source": [
    "#Enter in the number for eGFP reads, order is experiment D, E, F\n",
    "eGFP_bc2 = np.array([300, 811, 546])\n",
    "eGFP_bc1 = np.array([21, 67, 41])"
   ]
  },
  {
   "cell_type": "code",
   "execution_count": 7,
   "id": "5371298b-bb3e-4aee-a260-e88f059d93d0",
   "metadata": {},
   "outputs": [],
   "source": [
    "def calcFrac(data):\n",
    "    h_bc2 = data.loc[\"Human_BC2\"] / data.loc[\"Human_TotalReads\"]\n",
    "    m_bc1 = data.loc[\"Mouse_BC1\"] / data.loc[\"Mouse_TotalReads\"]\n",
    "    \n",
    "    return h_bc2, m_bc1"
   ]
  },
  {
   "cell_type": "code",
   "execution_count": 8,
   "id": "edb983bb-1cb5-42b5-9588-d990964aa30c",
   "metadata": {},
   "outputs": [],
   "source": [
    "#construct a new dataframe for plotting scatterplots of fraction of correct reads\n",
    "hm_df = pd.DataFrame(columns = [\"Human BC2\", \"Mouse BC1\", \"Mapped Read\"], index=range(9))\n",
    "hm_df.index.name = \"Fraction of Reads\""
   ]
  },
  {
   "cell_type": "code",
   "execution_count": 9,
   "id": "f358b6df-0332-47c2-82b7-11d635755517",
   "metadata": {},
   "outputs": [
    {
     "data": {
      "text/html": [
       "<div>\n",
       "<style scoped>\n",
       "    .dataframe tbody tr th:only-of-type {\n",
       "        vertical-align: middle;\n",
       "    }\n",
       "\n",
       "    .dataframe tbody tr th {\n",
       "        vertical-align: top;\n",
       "    }\n",
       "\n",
       "    .dataframe thead th {\n",
       "        text-align: right;\n",
       "    }\n",
       "</style>\n",
       "<table border=\"1\" class=\"dataframe\">\n",
       "  <thead>\n",
       "    <tr style=\"text-align: right;\">\n",
       "      <th></th>\n",
       "      <th>Human BC2</th>\n",
       "      <th>Mouse BC1</th>\n",
       "      <th>Mapped Read</th>\n",
       "    </tr>\n",
       "    <tr>\n",
       "      <th>Fraction of Reads</th>\n",
       "      <th></th>\n",
       "      <th></th>\n",
       "      <th></th>\n",
       "    </tr>\n",
       "  </thead>\n",
       "  <tbody>\n",
       "    <tr>\n",
       "      <th>0</th>\n",
       "      <td>0.877254</td>\n",
       "      <td>0.122746</td>\n",
       "      <td>Human</td>\n",
       "    </tr>\n",
       "    <tr>\n",
       "      <th>1</th>\n",
       "      <td>0.877299</td>\n",
       "      <td>0.122701</td>\n",
       "      <td>Human</td>\n",
       "    </tr>\n",
       "    <tr>\n",
       "      <th>2</th>\n",
       "      <td>0.865397</td>\n",
       "      <td>0.134603</td>\n",
       "      <td>Human</td>\n",
       "    </tr>\n",
       "    <tr>\n",
       "      <th>3</th>\n",
       "      <td>0.115785</td>\n",
       "      <td>0.884215</td>\n",
       "      <td>Mouse</td>\n",
       "    </tr>\n",
       "    <tr>\n",
       "      <th>4</th>\n",
       "      <td>0.117974</td>\n",
       "      <td>0.882026</td>\n",
       "      <td>Mouse</td>\n",
       "    </tr>\n",
       "    <tr>\n",
       "      <th>5</th>\n",
       "      <td>0.103839</td>\n",
       "      <td>0.896161</td>\n",
       "      <td>Mouse</td>\n",
       "    </tr>\n",
       "    <tr>\n",
       "      <th>6</th>\n",
       "      <td>0.934579</td>\n",
       "      <td>0.065421</td>\n",
       "      <td>eGFP</td>\n",
       "    </tr>\n",
       "    <tr>\n",
       "      <th>7</th>\n",
       "      <td>0.92369</td>\n",
       "      <td>0.07631</td>\n",
       "      <td>eGFP</td>\n",
       "    </tr>\n",
       "    <tr>\n",
       "      <th>8</th>\n",
       "      <td>0.930153</td>\n",
       "      <td>0.069847</td>\n",
       "      <td>eGFP</td>\n",
       "    </tr>\n",
       "  </tbody>\n",
       "</table>\n",
       "</div>"
      ],
      "text/plain": [
       "                  Human BC2 Mouse BC1 Mapped Read\n",
       "Fraction of Reads                                \n",
       "0                  0.877254  0.122746       Human\n",
       "1                  0.877299  0.122701       Human\n",
       "2                  0.865397  0.134603       Human\n",
       "3                  0.115785  0.884215       Mouse\n",
       "4                  0.117974  0.882026       Mouse\n",
       "5                  0.103839  0.896161       Mouse\n",
       "6                  0.934579  0.065421        eGFP\n",
       "7                   0.92369   0.07631        eGFP\n",
       "8                  0.930153  0.069847        eGFP"
      ]
     },
     "execution_count": 9,
     "metadata": {},
     "output_type": "execute_result"
    }
   ],
   "source": [
    "#construct the dataframe and visualize it\n",
    "for idx,df in enumerate(df_436):\n",
    "    h_bc2, m_bc1 = calcFrac(df)\n",
    "    hm_df.loc[idx, \"Human BC2\"] = h_bc2[0]\n",
    "    hm_df.loc[idx, \"Mouse BC1\"] = 1-h_bc2[0]\n",
    "    hm_df.loc[idx, \"Mapped Read\"] = \"Human\"\n",
    "    \n",
    "    hm_df.loc[idx+3, \"Mouse BC1\"] = m_bc1[0]\n",
    "    hm_df.loc[idx+3, \"Human BC2\"] = 1-m_bc1[0]\n",
    "    hm_df.loc[idx+3, \"Mapped Read\"] = \"Mouse\"\n",
    "    \n",
    "    hm_df.loc[idx+6, \"Human BC2\"] = eGFP_bc2[idx] / (eGFP_bc2[idx] + eGFP_bc1[idx])\n",
    "    hm_df.loc[idx+6, \"Mouse BC1\"] = eGFP_bc1[idx] / (eGFP_bc2[idx] + eGFP_bc1[idx])\n",
    "    hm_df.loc[idx+6, \"Mapped Read\"] = \"eGFP\"\n",
    "hm_df"
   ]
  },
  {
   "cell_type": "code",
   "execution_count": 10,
   "id": "61e7fa8b-5fe9-4460-80e7-6e7af47c5189",
   "metadata": {},
   "outputs": [],
   "source": [
    "#Save df\n",
    "hm_df.to_csv(\"436_BCFraction.csv\")"
   ]
  },
  {
   "cell_type": "code",
   "execution_count": 11,
   "id": "d1bafe34-b773-471e-8648-a47df61a7e87",
   "metadata": {},
   "outputs": [
    {
     "data": {
      "image/png": "[encoded data removed]",
      "text/plain": [
       "<Figure size 288x288 with 1 Axes>"
      ]
     },
     "metadata": {
      "needs_background": "light"
     },
     "output_type": "display_data"
    }
   ],
   "source": [
    "#Plot Figure\n",
    "fig_dims = (4, 4)\n",
    "fig, ax = plt.subplots(figsize=fig_dims)\n",
    "sns.scatterplot(data=hm_df, x=\"Human BC2\", y=\"Mouse BC1\", hue=\"Mapped Read\", alpha=0.5, s=300)\n",
    "ax.set(ylim=(0,1))\n",
    "ax.set(xlim=(0,1))\n",
    "plt.savefig(\"436_BCFraction.pdf\")"
   ]
  },
  {
   "cell_type": "markdown",
   "id": "d14ec87f-c2a7-426a-8faa-79eec0af2c13",
   "metadata": {},
   "source": [
    "#### Additional barplots if needed"
   ]
  },
  {
   "cell_type": "code",
   "execution_count": 12,
   "id": "22cab9bb-b1b6-4f87-872a-ee3ad3fd5e11",
   "metadata": {},
   "outputs": [
    {
     "data": {
      "text/html": [
       "<div>\n",
       "<style scoped>\n",
       "    .dataframe tbody tr th:only-of-type {\n",
       "        vertical-align: middle;\n",
       "    }\n",
       "\n",
       "    .dataframe tbody tr th {\n",
       "        vertical-align: top;\n",
       "    }\n",
       "\n",
       "    .dataframe thead th {\n",
       "        text-align: right;\n",
       "    }\n",
       "</style>\n",
       "<table border=\"1\" class=\"dataframe\">\n",
       "  <thead>\n",
       "    <tr style=\"text-align: right;\">\n",
       "      <th></th>\n",
       "      <th>Human</th>\n",
       "      <th>Mouse</th>\n",
       "      <th>eGFP</th>\n",
       "    </tr>\n",
       "    <tr>\n",
       "      <th>Fraction of Reads</th>\n",
       "      <th></th>\n",
       "      <th></th>\n",
       "      <th></th>\n",
       "    </tr>\n",
       "  </thead>\n",
       "  <tbody>\n",
       "    <tr>\n",
       "      <th>0</th>\n",
       "      <td>0.877254</td>\n",
       "      <td>NaN</td>\n",
       "      <td>NaN</td>\n",
       "    </tr>\n",
       "    <tr>\n",
       "      <th>1</th>\n",
       "      <td>0.877299</td>\n",
       "      <td>NaN</td>\n",
       "      <td>NaN</td>\n",
       "    </tr>\n",
       "    <tr>\n",
       "      <th>2</th>\n",
       "      <td>0.865397</td>\n",
       "      <td>NaN</td>\n",
       "      <td>NaN</td>\n",
       "    </tr>\n",
       "    <tr>\n",
       "      <th>3</th>\n",
       "      <td>NaN</td>\n",
       "      <td>0.884215</td>\n",
       "      <td>NaN</td>\n",
       "    </tr>\n",
       "    <tr>\n",
       "      <th>4</th>\n",
       "      <td>NaN</td>\n",
       "      <td>0.882026</td>\n",
       "      <td>NaN</td>\n",
       "    </tr>\n",
       "    <tr>\n",
       "      <th>5</th>\n",
       "      <td>NaN</td>\n",
       "      <td>0.896161</td>\n",
       "      <td>NaN</td>\n",
       "    </tr>\n",
       "    <tr>\n",
       "      <th>6</th>\n",
       "      <td>NaN</td>\n",
       "      <td>NaN</td>\n",
       "      <td>0.934579</td>\n",
       "    </tr>\n",
       "    <tr>\n",
       "      <th>7</th>\n",
       "      <td>NaN</td>\n",
       "      <td>NaN</td>\n",
       "      <td>0.92369</td>\n",
       "    </tr>\n",
       "    <tr>\n",
       "      <th>8</th>\n",
       "      <td>NaN</td>\n",
       "      <td>NaN</td>\n",
       "      <td>0.930153</td>\n",
       "    </tr>\n",
       "  </tbody>\n",
       "</table>\n",
       "</div>"
      ],
      "text/plain": [
       "                      Human     Mouse      eGFP\n",
       "Fraction of Reads                              \n",
       "0                  0.877254       NaN       NaN\n",
       "1                  0.877299       NaN       NaN\n",
       "2                  0.865397       NaN       NaN\n",
       "3                       NaN  0.884215       NaN\n",
       "4                       NaN  0.882026       NaN\n",
       "5                       NaN  0.896161       NaN\n",
       "6                       NaN       NaN  0.934579\n",
       "7                       NaN       NaN   0.92369\n",
       "8                       NaN       NaN  0.930153"
      ]
     },
     "execution_count": 12,
     "metadata": {},
     "output_type": "execute_result"
    }
   ],
   "source": [
    "#Create seperate dataframe for barplot\n",
    "human_frac = hm_df[hm_df.loc[:,\"Mapped Read\"] == \"Human\"]\n",
    "human_frac = human_frac.loc[:,\"Human BC2\"]\n",
    "\n",
    "mouse_frac = hm_df[hm_df.loc[:,\"Mapped Read\"] == \"Mouse\"]\n",
    "mouse_frac = mouse_frac.loc[:,\"Mouse BC1\"]\n",
    "\n",
    "eGFP_frac = hm_df[hm_df.loc[:,\"Mapped Read\"] == \"eGFP\"]\n",
    "eGFP_frac = eGFP_frac.loc[:,\"Human BC2\"]\n",
    "\n",
    "data=[]\n",
    "data = pd.concat([human_frac, mouse_frac, eGFP_frac], axis=1, ignore_index = True)\n",
    "data.columns = [\"Human\", \"Mouse\", \"eGFP\"]\n",
    "data"
   ]
  },
  {
   "cell_type": "code",
   "execution_count": 13,
   "id": "ce93a9f8-c57a-4e60-a638-cb2addfdd05e",
   "metadata": {},
   "outputs": [
    {
     "data": {
      "text/plain": [
       "[(0.0, 1.0)]"
      ]
     },
     "execution_count": 13,
     "metadata": {},
     "output_type": "execute_result"
    },
    {
     "data": {
      "image/png": "[encoded data removed]",
      "text/plain": [
       "<Figure size 288x360 with 1 Axes>"
      ]
     },
     "metadata": {
      "needs_background": "light"
     },
     "output_type": "display_data"
    }
   ],
   "source": [
    "fig_dims = (4, 5)\n",
    "fig, ax = plt.subplots(figsize=fig_dims)\n",
    "sns.barplot(data=data, ax=ax, ci=68)\n",
    "ax.set(ylim=(0,1))\n",
    "#h.patches[0].set_width(0.2)\n",
    "#plt.savefig(\"436_BCfrac.png\", dpi=300)\n",
    "#plt.savefig(\"436_BCfrac.pdf\")"
   ]
  },
  {
   "cell_type": "code",
   "execution_count": null,
   "id": "6ca233bb-dbb6-4e61-9a96-d514e846e8a8",
   "metadata": {},
   "outputs": [],
   "source": []
  }
 ],
 "metadata": {
  "kernelspec": {
   "display_name": "Python 3",
   "language": "python",
   "name": "python3"
  },
  "language_info": {
   "codemirror_mode": {
    "name": "ipython",
    "version": 3
   },
   "file_extension": ".py",
   "mimetype": "text/x-python",
   "name": "python",
   "nbconvert_exporter": "python",
   "pygments_lexer": "ipython3",
   "version": "3.7.8"
  }
 },
 "nbformat": 4,
 "nbformat_minor": 5
}
